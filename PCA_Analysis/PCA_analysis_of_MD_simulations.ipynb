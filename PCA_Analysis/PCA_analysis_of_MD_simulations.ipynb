{
 "cells": [
  {
   "cell_type": "markdown",
   "metadata": {
    "heading_collapsed": true
   },
   "source": [
    "## CCP-BioSim Training Course:\n",
    "### Using PCA for the Analysis of MD Simulations\n",
    "\n",
    "The aim of the notebook is to illustrate methods we can use to assess convergence and sampling in MD trajectories. You will compare and contrast the most basic and widely-used method to do this - RMSD analysis - with the use of more sophisticated PCA based approaches. You will apply the approaches to two common scenarios: firstly the comparison of the dynamics of a protein the presence and absence of a bound ligand, and secondly the evaluation of sampling and convergence in an ensemble of independent, replicate, MD trajectories of a protein.\n",
    "\n",
    "In the process, you will see how iPython (Jupyter) notebooks help with interactive data exploration and analysis.\n",
    "\n",
    "### Prerequisites\n",
    "\n",
    "We assume: \n",
    "\n",
    "1. you have a basic understanding of how to use an iPython (Jupyter) notebook.\n",
    "\n",
    "2. you already have a basic understanding of PCA methods. For much more information about the PCA package used here - **pyPcazip** -, see [here](https://bitbucket.org/ramonbsc/pypcazip) and the paper [Shkurti et al., SoftwareX](http://dx.doi.org/10.1016/j.softx.2016.04.002).\n",
    "\n",
    "**pyPcazip** uses a python library called **MDPlus** and that is mainly what you will see in action here. For a guide to the **MDPlus** API, see [here](http://pypcazip.readthedocs.io/en/latest/)."
   ]
  },
  {
   "cell_type": "markdown",
   "metadata": {
    "heading_collapsed": true,
    "hidden": true
   },
   "source": [
    "## Part 0: Check your environment\n",
    "Firstly we need to check that your python environment has everything installed that you need.\n",
    "\n",
    "Run the code in the cell below to do this."
   ]
  },
  {
   "cell_type": "code",
   "execution_count": null,
   "metadata": {
    "hidden": true
   },
   "outputs": [],
   "source": [
    "all_good = True\n",
    "try:\n",
    "    import numpy as np\n",
    "except ImportError:\n",
    "    print('Error - you neeed to install numpy')\n",
    "    all_good = False\n",
    "try:\n",
    "    from MDPlus.core import Fasu, Cofasu\n",
    "    from MDPlus.analysis import mapping, pca\n",
    "except ImportError:\n",
    "    print('Error - you need to install pyPcazip')\n",
    "    all_good = False\n",
    "try:\n",
    "    import matplotlib.pyplot as plt\n",
    "    % matplotlib inline\n",
    "except ImportError:\n",
    "    print('Error - you need to install matplotlib')\n",
    "    all_good = False\n",
    "    \n",
    "try:\n",
    "    import nglview as nv\n",
    "except ImportError:\n",
    "    print('Error - you need to install nglview')\n",
    "    all_good = False\n",
    "\n",
    "files = ['wt_ca.binpos', 'wt_ca.pdb', 'irhy_ca.binpos', 'irhy_ca.pdb', '1rhw_prot.pdb']\n",
    "files += ['rep{}/1rhw.md1.nc'.format(i + 1) for i in range(8)]\n",
    "import os\n",
    "for file in files:\n",
    "    if not os.path.exists(file):\n",
    "        print('Error - can\\'t find data file {}'.format(file))\n",
    "        all_good = False\n",
    "if all_good:\n",
    "    print('Success - you seem to have everything ready to go.')"
   ]
  },
  {
   "cell_type": "markdown",
   "metadata": {
    "hidden": true
   },
   "source": [
    "If running the cell above led to error messages, please fix these before you try to go any further.\n",
    "____"
   ]
  },
  {
   "cell_type": "markdown",
   "metadata": {
    "collapsed": true,
    "hidden": true
   },
   "source": [
    "[Next: Part 1: Comparison of trajectories of wild-type neuraminidase and of the I233R/H275Y (IRHY) double mutant.](.PCA_analysis_of_MD_simulations-1.ipynb)"
   ]
  }
 ],
 "metadata": {
  "kernelspec": {
   "display_name": "Python 3",
   "language": "python",
   "name": "python3"
  },
  "language_info": {
   "codemirror_mode": {
    "name": "ipython",
    "version": 3
   },
   "file_extension": ".py",
   "mimetype": "text/x-python",
   "name": "python",
   "nbconvert_exporter": "python",
   "pygments_lexer": "ipython3",
   "version": "3.5.5"
  }
 },
 "nbformat": 4,
 "nbformat_minor": 1
}
