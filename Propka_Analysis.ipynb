{
 "cells": [
  {
   "cell_type": "markdown",
   "metadata": {},
   "source": [
    "# Propka analysis of a protein structure\n",
    "\n",
    "This notebook illustrates the application of [Propka](https://github.com/jensengroup/propka-3.1) to the analysis of the pKas of acidic and basic residues in the structure of the cysteine protease cruzein (PDB code 2oz2).\n",
    "\n",
    "The notebook makes use of two Python packages:\n",
    " - [nglview](http://nglviewer.org/nglview/latest/): A package to embed a molecular viewer in a Jupyter notebook.\n",
    " - [mdtraj](http://www.mdtraj.org): a very useful trajectory analysis package.\n",
    " \n",
    "## Prerequisites:\n",
    "\n",
    "You must have the Python packages `nglviewer` and `mdtraj` installed, and `Procheck` installed too.\n",
    "\n",
    "`MDTraj` and `nglviewer` can be installed using `pip`:\n",
    "```\n",
    "% pip install mdtraj\n",
    "% pip install nglviewer\n",
    "```\n",
    "\n",
    "`Propka` is not a Python package and can be a bit more effort to install if you don't already have it. If you are lucky enough to be looking at this notebook on your own laptop, or some other computer that has [Docker](http://docker.com) installed, then you can use `pinda` to install `Propka`:\n",
    "```\n",
    "% pip install pinda\n",
    "% pinda install propka 3.1.0\n",
    "```\n",
    "\n",
    "You also need a copy of the PDB file `2oz2.pdb` in the directory you launch this notebook from. If it's not already here, download it from the [PDB website](http://www.rcsb.org/structure/2oz2).\n",
    "\n",
    "-----\n",
    "\n",
    "In this first cell we check we have everything we need to run the notebook:"
   ]
  },
  {
   "cell_type": "code",
   "execution_count": null,
   "metadata": {},
   "outputs": [],
   "source": [
    "OK = True\n",
    "import subprocess\n",
    "import os.path as op\n",
    "pdb_file = 'data/propka_analysis/2oz2.pdb'\n",
    "try:\n",
    "    import mdtraj as mdt\n",
    "except ImportError:\n",
    "    print('Error: you do not seem to have the MDTraj Python package installed')\n",
    "    OK = False\n",
    "\n",
    "result = subprocess.call('which propka31', shell=True)\n",
    "if result != 0:\n",
    "    print('Error: you do not seem to have Propka installed')\n",
    "    OK = False\n",
    "    \n",
    "try:\n",
    "    import nglview as nv\n",
    "except ImportError:\n",
    "    print('Error: you don\\'t seem to have nglview installed - use pip or similar to get it then try again.')\n",
    "    OK = False\n",
    "\n",
    "if not op.exists(pdb_file):\n",
    "    print('Error: you don\\'t seem to have the data file {} in this directory.'.format(pdb_file))\n",
    "    OK = False\n",
    "\n",
    "if OK is False:\n",
    "    print('This notebook will not work until you fix these issues')\n",
    "else:\n",
    "    print('Success: you seem to have all the packages installed that are needed.')"
   ]
  },
  {
   "cell_type": "markdown",
   "metadata": {},
   "source": [
    "## Part 1: visualisation of the protein.\n",
    "\n",
    "In this cell we load the pdb file and visualize it using nglviewer:"
   ]
  },
  {
   "cell_type": "code",
   "execution_count": null,
   "metadata": {},
   "outputs": [],
   "source": [
    "traj = mdt.load(pdb_file)\n",
    "view = nv.show_mdtraj(traj)\n",
    "view"
   ]
  },
  {
   "cell_type": "markdown",
   "metadata": {},
   "source": [
    "If you look carefully at the structure above you will see that it contains two copies of the protein, as that was what was seen in the crystal structure unit cell. At the interface between the two you can see the two copies of the ligand molecule. In the PDB file one copy of the protein is labelled as chain A, and the other as chain C. We will analyse each of these independently.\n",
    "\n",
    "## Part 2: Pka prediction using Propka\n",
    "\n",
    "Propka is a command line tool, not a Python function, so in the cell below we use the \"!\" to make the cell run the command:"
   ]
  },
  {
   "cell_type": "code",
   "execution_count": null,
   "metadata": {},
   "outputs": [],
   "source": [
    "! propka31 data/propka_analysis/2oz2.pdb -c A"
   ]
  },
  {
   "cell_type": "markdown",
   "metadata": {},
   "source": [
    "At the end of the output is a table of the predicted pKa of each acidic and basic residue. Which out of Asp57 and Asp60 is predicted to be protonated at physiological pH?\n",
    "\n",
    "There is another acidic residue with an unusually high pKa – which is it? From examination of the structure, can you explain why?\n",
    "\n",
    "If you run the code in the next cell, it will change the view of the protein to zoom in on this region to help you answer this question."
   ]
  },
  {
   "cell_type": "code",
   "execution_count": null,
   "metadata": {},
   "outputs": [],
   "source": [
    "view.clear_representations()\n",
    "view.add_cartoon(':A and protein')\n",
    "view.add_representation('ball+stick', ':A and acidic')\n",
    "view.add_representation('label', '57:A.CB')\n",
    "view.add_representation('label', '60:A.CB')\n",
    "view.add_representation('label', '50:A.CB')\n",
    "view.center('50:A')"
   ]
  },
  {
   "cell_type": "markdown",
   "metadata": {},
   "source": [
    "Repeat the analysis on the other protein chain, and compare the results:"
   ]
  },
  {
   "cell_type": "code",
   "execution_count": null,
   "metadata": {},
   "outputs": [],
   "source": [
    "! propka31 data/propka_analysis/2oz2.pdb -c C"
   ]
  },
  {
   "cell_type": "markdown",
   "metadata": {},
   "source": [
    "If you run the code in the cell below it will reset the molecule view above to zoom in on the relevant region:"
   ]
  },
  {
   "cell_type": "code",
   "execution_count": null,
   "metadata": {},
   "outputs": [],
   "source": [
    "view.clear_representations()\n",
    "view.add_cartoon(':B and protein')\n",
    "view.add_representation('ball+stick', ':B and acidic')\n",
    "view.add_representation('label', '57:B.CB')\n",
    "view.add_representation('label', '60:B.CB')\n",
    "view.add_representation('label', '50:B.CB')\n",
    "view.center('50:B')"
   ]
  },
  {
   "cell_type": "code",
   "execution_count": null,
   "metadata": {},
   "outputs": [],
   "source": []
  }
 ],
 "metadata": {
  "kernelspec": {
   "display_name": "Python 3",
   "language": "python",
   "name": "python3"
  },
  "language_info": {
   "codemirror_mode": {
    "name": "ipython",
    "version": 3
   },
   "file_extension": ".py",
   "mimetype": "text/x-python",
   "name": "python",
   "nbconvert_exporter": "python",
   "pygments_lexer": "ipython3",
   "version": "3.5.5"
  }
 },
 "nbformat": 4,
 "nbformat_minor": 2
}
