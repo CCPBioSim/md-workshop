{
 "cells": [
  {
   "cell_type": "markdown",
   "metadata": {},
   "source": [
    "### Analysis of ubiquitin simulations\n",
    "\n",
    "Here you will analyse the results from a short (1 nanosecond) simulation of ubiquitin, investigating the question \"how similar is the MD trajectory to the crystal and NMR structures?\"\n",
    "\n",
    "The notebook illustrates:\n",
    "\n",
    "1. The use of the Python MDTraj module (see http://www.mdtraj.org)\n",
    "2. The use of the Python matplotlib module for plotting (see http://www.matplotlib.org)\n",
    "3. The use of the Python MDPlus module for Principal Component Analysis (see https://claughton.bitbucket.io/pypcazip/)\n",
    "\n",
    "---"
   ]
  },
  {
   "cell_type": "markdown",
   "metadata": {},
   "source": [
    "First we import the necessary Python modules and prepare for plotting:"
   ]
  },
  {
   "cell_type": "code",
   "execution_count": null,
   "metadata": {},
   "outputs": [],
   "source": [
    "import mdtraj as mdt\n",
    "from matplotlib import pyplot as plt\n",
    "%matplotlib inline"
   ]
  },
  {
   "cell_type": "markdown",
   "metadata": {},
   "source": [
    "Load the trajectories (the X-ray structure is in effect a single frame trajectory)"
   ]
  },
  {
   "cell_type": "code",
   "execution_count": null,
   "metadata": {},
   "outputs": [],
   "source": [
    "trajfile = 'ubq_1ns.xtc' # The MD trajectory in Gromacs .xtc format\n",
    "topfile = 'ubq.pdb' # A PDB format file that matches the MD trajectory\n",
    "xray = '1ubq.pdb' # The PDB file for the X-ray structure, downloaded from the Protein Data Bank\n",
    "nmr = '1d3z.pdb' # The PDB file for the NMR structures (ten models), doenloaded from the Protesin Data Bank\n",
    "\n",
    "mdtraj = mdt.load(trajfile, top=topfile)\n",
    "xtraj = mdt.load(xray)\n",
    "ntraj = mdt.load(nmr)\n",
    "print(mdtraj)\n",
    "print(xtraj)\n",
    "print(ntraj)"
   ]
  },
  {
   "cell_type": "markdown",
   "metadata": {},
   "source": [
    "The print statements make it clear that these three trajectory objects differ from each other. The MD and NMR trajectories contain a different number of atoms from the X-ray trajectory, because the X-ray structure does not include hydrogen atoms. The X-ray structure has more residues though, because it also contains coordinates for crystallographic waters. Both the MD and X-ray trajectories include unit cell data, the NMR one does not.\n",
    "\n",
    "---\n",
    "\n",
    "Before we can compare these trajectories, we have to make them compatible with each other. A simple approach is to reduce them to just protein backbone atoms. In the cell below we define a simple function that strips a trajectory down to these atoms, and then apply it to each trajectory:"
   ]
  },
  {
   "cell_type": "code",
   "execution_count": null,
   "metadata": {},
   "outputs": [],
   "source": [
    "def to_backbone(traj):\n",
    "    '''\n",
    "    Reduce an MDTraj trajectory to backbone atoms only\n",
    "    '''\n",
    "    sel = traj.topology.select('backbone')\n",
    "    topsel = traj.topology.subset(sel)\n",
    "    xyzsel = traj.xyz[:, sel]\n",
    "    newtraj = mdt.Trajectory(xyzsel, topsel)\n",
    "    return newtraj\n",
    "\n",
    "mdsel = to_backbone(mdtraj)\n",
    "xsel = to_backbone(xtraj)\n",
    "nsel = to_backbone(ntraj)\n",
    "print(mdsel)\n",
    "print(xsel)\n",
    "print(nsel)"
   ]
  },
  {
   "cell_type": "markdown",
   "metadata": {},
   "source": [
    "The output from the print statements should convince you that things are better now.\n",
    "\n",
    "Let's start with something simple: calculate the RMSD of each snapshot in the MD trajectory from a) the first frame in the MD trajectory, b) the X-ray structure, and c) the first model in the NMR trajectory (note that MDTraj reports RMSDs in nanometers):"
   ]
  },
  {
   "cell_type": "code",
   "execution_count": null,
   "metadata": {},
   "outputs": [],
   "source": [
    "mrmsd = mdt.rmsd(mdsel, mdsel[0])\n",
    "xrmsd = mdt.rmsd(mdsel, xsel)\n",
    "nrmsd = mdt.rmsd(mdsel, nsel[0])\n",
    "plt.plot(mrmsd, label='From MD start')\n",
    "plt.plot(xrmsd, label='From X-ray')\n",
    "plt.plot(nrmsd, label='From NMR model 1')\n",
    "plt.legend()"
   ]
  },
  {
   "cell_type": "markdown",
   "metadata": {},
   "source": [
    "From the plot you should be able to draw the following conclusions:\n",
    "1. The MD trajectory quickly drifts away from the starting structure\n",
    "2. It remains closer to the starting structure than to the X-ray or NMR structures\n",
    "3. It seems to be getting slightly closer to the X-ray and NMR structures\n",
    "4. It seems to be getting marginally closer to the X-ray structure than the NMR structure\n",
    "\n",
    "---\n",
    "\n",
    "OK: But what about the other models in the NMR trajectory?\n",
    "\n",
    "**EXERCISE**: \n",
    "\n",
    "**Write code in the cell below (and add others if you need them) to find out if the MD trajectory gets closer to one of the other NMR models (hint: you could adapt the code in the cell above to do it by a trial-and-error method, but you might be able to come up with something more elegant)**"
   ]
  },
  {
   "cell_type": "code",
   "execution_count": null,
   "metadata": {},
   "outputs": [],
   "source": [
    "# write your code here:\n"
   ]
  },
  {
   "cell_type": "markdown",
   "metadata": {},
   "source": [
    "---\n",
    "Now we will use PCA methods to get a more wholistic view of the way the MD simulation samples conformational space.\n",
    "\n",
    "In the cell below we load the PCA module, and concatenate the individual trajectories together into one big one, so we do PCA on everything together:"
   ]
  },
  {
   "cell_type": "code",
   "execution_count": null,
   "metadata": {},
   "outputs": [],
   "source": [
    "from MDPlus.analysis import pca\n",
    "all_sel = xsel + nsel + mdsel # Note the order in which we combine the trajectories, we will need to remember this\n",
    "p = pca.fromtrajectory(all_sel)"
   ]
  },
  {
   "cell_type": "markdown",
   "metadata": {},
   "source": [
    "Let's look at the eigenvalues from the PCA:"
   ]
  },
  {
   "cell_type": "code",
   "execution_count": null,
   "metadata": {},
   "outputs": [],
   "source": [
    "print(p.evals)"
   ]
  },
  {
   "cell_type": "markdown",
   "metadata": {},
   "source": [
    "---\n",
    "\n",
    "**EXERCISE**: \n",
    "\n",
    "**Produce a plot of this data: maybe as bars instead of lines? Look at the matplotlib documentation.**"
   ]
  },
  {
   "cell_type": "code",
   "execution_count": null,
   "metadata": {},
   "outputs": [],
   "source": [
    "# write your code here:\n"
   ]
  },
  {
   "cell_type": "markdown",
   "metadata": {},
   "source": [
    "It looks like a 2D plot in the (PC1, PC2) subspace should resolve most of the variance in the data. The projections are in the `p.projs` attribute. Each projection vector contains one value per snapshot: remembering the order in which we combined the trajectories prior to PCA, we know that the first value corresponds to the X-ray structure, the next ten to the NMR structures, and the rest to the MD data, so we can separate things out accordingly:"
   ]
  },
  {
   "cell_type": "code",
   "execution_count": null,
   "metadata": {},
   "outputs": [],
   "source": [
    "plt.plot(p.projs[0][0], p.projs[1][0], 'Dc', label='X-ray structure')\n",
    "plt.plot(p.projs[0][1:11], p.projs[1][1:11], 'og', label='NMR structures')\n",
    "plt.plot(p.projs[0][11:], p.projs[1][11:], ',m', label='MD snapshots')\n",
    "plt.legend()"
   ]
  },
  {
   "cell_type": "markdown",
   "metadata": {},
   "source": [
    "**_EXERCISES_**:\n",
    "\n",
    "1. **Try looking in different subspaces - e.g. the PC1/PC3 plane - is the relationship between the scatter of the MD snapshots, and the positions of the X-ray and NMR structures, any different?**\n",
    "\n",
    "2. **Sometimes the difference between MD snapshots and an experimental structure is dominated by the high mobility of a few residues at the N- and/or C-terminii of the protein. Experiment repeating all the above analyses with a few terminal residues ommitted. To do this you just need to adjust the selection string in the `to_backbone()` function; e.g. you could try something like 'backbone and resid 5 to 71'.**"
   ]
  },
  {
   "cell_type": "code",
   "execution_count": null,
   "metadata": {},
   "outputs": [],
   "source": []
  }
 ],
 "metadata": {
  "kernelspec": {
   "display_name": "Python 3",
   "language": "python",
   "name": "python3"
  },
  "language_info": {
   "codemirror_mode": {
    "name": "ipython",
    "version": 3
   },
   "file_extension": ".py",
   "mimetype": "text/x-python",
   "name": "python",
   "nbconvert_exporter": "python",
   "pygments_lexer": "ipython3",
   "version": "3.5.5"
  }
 },
 "nbformat": 4,
 "nbformat_minor": 2
}
